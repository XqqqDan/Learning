{
 "cells": [
  {
   "cell_type": "code",
   "execution_count": null,
   "metadata": {},
   "outputs": [],
   "source": [
    "##code 1(c)\n",
    "A = [[i+1 for j in range(2)] for i in range(3)]\n",
    "print(A)"
   ]
  },
  {
   "cell_type": "code",
   "execution_count": 6,
   "metadata": {},
   "outputs": [
    {
     "name": "stdout",
     "output_type": "stream",
     "text": [
      "h[]= [0 0 8 0 6 4 1 3 1]\n",
      "x[]= [6 2 9]\n",
      "np.convole fouction:\n",
      "y[]= [  0   0  48  16 108  36  68  56  21  29   9]\n",
      "my function:\n",
      "y[]= [  0   0  48  16 108  36  68  56  21  29   9]\n"
     ]
    }
   ],
   "source": [
    "##code 7(c)\n",
    "import numpy as np\n",
    "import random\n",
    "\n",
    "\n",
    "def conv(h, x):\n",
    "    y = []\n",
    "    for i in range(len(h) + len(x) - 1):\n",
    "        sum_temp = 0\n",
    "        for j in range(len(x) - 1, -1, -1):\n",
    "            if (i - j >= 0) and (i - j <= len(h) - 1):\n",
    "                sum_temp += h[i - j] * x[j]\n",
    "        y = np.append(y, sum_temp)\n",
    "    return y.astype(int)\n",
    "\n",
    "\n",
    "## examples\n",
    "h = np.random.randint(10, size=random.randint(3, 10))\n",
    "x = np.random.randint(10, size=random.randint(3, 10))\n",
    "print(\"h[]=\", h)\n",
    "print(\"x[]=\", x)\n",
    "print(\"np.convole fouction:\")\n",
    "print(\"y[]=\", np.convolve(h, x))\n",
    "print(\"my function:\")\n",
    "print(\"y[]=\", conv(h, x))\n"
   ]
  },
  {
   "cell_type": "code",
   "execution_count": 57,
   "metadata": {},
   "outputs": [
    {
     "name": "stdout",
     "output_type": "stream",
     "text": [
      "x = [3 9 6 1 1]\n",
      "y = [4 5]\n",
      "vec(xy^T) = [[12 15 36 45 24 30  4  5  4  5]]\n",
      "y (X) x =   [[12 15 36 45 24 30  4  5  4  5]]\n"
     ]
    }
   ],
   "source": [
    "##code 8\n",
    "import numpy as np\n",
    "import random\n",
    "\n",
    "def vec(x,y):\n",
    "    c= np.dot(x.reshape(-1,1),y.reshape(1,-1))\n",
    "    c=c.reshape(1,-1)\n",
    "    return c\n",
    "\n",
    "def circle_mul(x,y):\n",
    "    c=[]\n",
    "    for i in range(len(x)):\n",
    "        for j in range(len(y)):\n",
    "            c=np.append(c,y[j]*x[i]).astype(int)\n",
    "    c=c.reshape(1,-1)\n",
    "    return c\n",
    "\n",
    "m=random.randint(2,6)\n",
    "n=random.randint(2,6)\n",
    "x=np.random.randint(10,size=m)\n",
    "y=np.random.randint(10,size=n)\n",
    "print(\"x =\",x)\n",
    "print(\"y =\",y)\n",
    "print(\"vec(xy^T) =\",vec(x,y))\n",
    "print(\"y (X) x =  \",circle_mul(x,y))"
   ]
  }
 ],
 "metadata": {
  "kernelspec": {
   "display_name": "d2l",
   "language": "python",
   "name": "python3"
  },
  "language_info": {
   "codemirror_mode": {
    "name": "ipython",
    "version": 3
   },
   "file_extension": ".py",
   "mimetype": "text/x-python",
   "name": "python",
   "nbconvert_exporter": "python",
   "pygments_lexer": "ipython3",
   "version": "3.9.16"
  },
  "orig_nbformat": 4
 },
 "nbformat": 4,
 "nbformat_minor": 2
}
