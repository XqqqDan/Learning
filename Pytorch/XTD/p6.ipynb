{
 "cells": [
  {
   "cell_type": "code",
   "execution_count": 1,
   "metadata": {},
   "outputs": [],
   "source": [
    "# 从torch的常用的工具区utils中的数据区data中import Dataset\n",
    "from torch.utils.data import Dataset"
   ]
  },
  {
   "cell_type": "code",
   "execution_count": 2,
   "metadata": {},
   "outputs": [
    {
     "name": "stdout",
     "output_type": "stream",
     "text": [
      "hymenoptera_data/train/ants\n"
     ]
    }
   ],
   "source": [
    "import os  # 系统相关的库\n",
    "\n",
    "dir_path = \"hymenoptera_data/train/ants\"\n",
    "# 获取文件夹地址\n",
    "\n",
    "img_path_list = os.listdir(dir_path)\n",
    "# 将文件夹中的文件名作为列表存到img_path_list中\n",
    "\n",
    "root_dir=\"hymenoptera_data/train\"\n",
    "label_dir=\"ants\"\n",
    "path=os.path.join(root_dir,label_dir)\n",
    "#join函数可以根据操作系统把两个路径拼接\n",
    "\n",
    "print(path)"
   ]
  },
  {
   "cell_type": "code",
   "execution_count": 3,
   "metadata": {},
   "outputs": [],
   "source": [
    "# 用来操作图片的包\n",
    "from PIL import Image\n",
    "\n",
    "img_path = \"hymenoptera_data/train/ants/0013035.jpg\"  # 读取图片相对路径\n",
    "img = Image.open(img_path)  # 打开图片\n",
    "# img.show()  # 显示图片"
   ]
  },
  {
   "cell_type": "code",
   "execution_count": 4,
   "metadata": {},
   "outputs": [],
   "source": [
    "# 定义一个MyData类,继承自Dataset类\n",
    "class MyData(Dataset):\n",
    "    # 构造函数\n",
    "    def __init__(self, root_dir, label_dir):\n",
    "        self.root_dir = root_dir\n",
    "        self.label_dir = label_dir\n",
    "        self.path = os.path.join(self.root_dir, self.label_dir)\n",
    "        # 得到图片所在的文件夹的路径\n",
    "        # print(self.path)\n",
    "        self.img_path = os.listdir(self.path)\n",
    "        # 得到所有图片的文件名并存入列表\n",
    "        # print(self.img_path)\n",
    "\n",
    "    def __getitem__(self, index):\n",
    "        img_name = self.img_path[index]\n",
    "        # 获取图片名称\n",
    "        img_item_path = os.path.join(self.root_dir, self.label_dir, img_name)\n",
    "        # 获取图片路径\n",
    "        img = Image.open(img_item_path)\n",
    "        # 读取图片\n",
    "        label = self.label_dir\n",
    "        # 读取标签\n",
    "        return img, label\n",
    "\n",
    "    def __len__(self):\n",
    "        return len(self.img_path)\n",
    "\n",
    "\n",
    "ants_dataset = MyData(root_dir, label_dir)\n",
    "# 创建蚂蚁数据集\n",
    "bees_lable_dir = \"bees\"\n",
    "bees_dataset = MyData(root_dir, bees_lable_dir)\n",
    "# 创建蜜蜂数据集\n",
    "train_dataset = ants_dataset + bees_dataset\n",
    "# 合并两个数据集"
   ]
  }
 ],
 "metadata": {
  "kernelspec": {
   "display_name": "d2l",
   "language": "python",
   "name": "python3"
  },
  "language_info": {
   "codemirror_mode": {
    "name": "ipython",
    "version": 3
   },
   "file_extension": ".py",
   "mimetype": "text/x-python",
   "name": "python",
   "nbconvert_exporter": "python",
   "pygments_lexer": "ipython3",
   "version": "3.9.16"
  },
  "orig_nbformat": 4
 },
 "nbformat": 4,
 "nbformat_minor": 2
}
